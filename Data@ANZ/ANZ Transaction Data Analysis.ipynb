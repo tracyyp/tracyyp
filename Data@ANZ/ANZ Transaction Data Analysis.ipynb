{
 "cells": [
  {
   "cell_type": "code",
   "execution_count": 1,
   "metadata": {},
   "outputs": [],
   "source": [
    "import pandas as pd\n",
    "import numpy as np\n",
    "import matplotlib.pyplot as plt\n",
    "import seaborn as sns\n",
    "import re\n",
    "import cartopy.crs as crs\n",
    "import cartopy.feature as cfeature"
   ]
  },
  {
   "cell_type": "code",
   "execution_count": 2,
   "metadata": {},
   "outputs": [],
   "source": [
    "%matplotlib inline\n",
    "# Use 3 decimal places in output display\n",
    "pd.set_option(\"display.precision\", 3)\n",
    "# Don't wrap repr(DataFrame) across additional lines\n",
    "pd.set_option(\"display.expand_frame_repr\", False)\n",
    "# Set max rows displayed in output to 25\n",
    "pd.set_option(\"display.max_rows\", 25)"
   ]
  },
  {
   "cell_type": "markdown",
   "metadata": {},
   "source": [
    "The data is loaded into a DataFrame with 12043 rows and 23 columns."
   ]
  },
  {
   "cell_type": "code",
   "execution_count": 3,
   "metadata": {},
   "outputs": [],
   "source": [
    "df = pd.read_excel(\"ANZ synthesised transaction dataset.xlsx\")"
   ]
  },
  {
   "cell_type": "code",
   "execution_count": 4,
   "metadata": {},
   "outputs": [
    {
     "data": {
      "text/html": [
       "<div>\n",
       "<style scoped>\n",
       "    .dataframe tbody tr th:only-of-type {\n",
       "        vertical-align: middle;\n",
       "    }\n",
       "\n",
       "    .dataframe tbody tr th {\n",
       "        vertical-align: top;\n",
       "    }\n",
       "\n",
       "    .dataframe thead th {\n",
       "        text-align: right;\n",
       "    }\n",
       "</style>\n",
       "<table border=\"1\" class=\"dataframe\">\n",
       "  <thead>\n",
       "    <tr style=\"text-align: right;\">\n",
       "      <th></th>\n",
       "      <th>status</th>\n",
       "      <th>card_present_flag</th>\n",
       "      <th>bpay_biller_code</th>\n",
       "      <th>account</th>\n",
       "      <th>currency</th>\n",
       "      <th>long_lat</th>\n",
       "      <th>txn_description</th>\n",
       "      <th>merchant_id</th>\n",
       "      <th>merchant_code</th>\n",
       "      <th>first_name</th>\n",
       "      <th>...</th>\n",
       "      <th>age</th>\n",
       "      <th>merchant_suburb</th>\n",
       "      <th>merchant_state</th>\n",
       "      <th>extraction</th>\n",
       "      <th>amount</th>\n",
       "      <th>transaction_id</th>\n",
       "      <th>country</th>\n",
       "      <th>customer_id</th>\n",
       "      <th>merchant_long_lat</th>\n",
       "      <th>movement</th>\n",
       "    </tr>\n",
       "  </thead>\n",
       "  <tbody>\n",
       "    <tr>\n",
       "      <th>0</th>\n",
       "      <td>authorized</td>\n",
       "      <td>1.0</td>\n",
       "      <td>NaN</td>\n",
       "      <td>ACC-1598451071</td>\n",
       "      <td>AUD</td>\n",
       "      <td>153.41 -27.95</td>\n",
       "      <td>POS</td>\n",
       "      <td>81c48296-73be-44a7-befa-d053f48ce7cd</td>\n",
       "      <td>NaN</td>\n",
       "      <td>Diana</td>\n",
       "      <td>...</td>\n",
       "      <td>26</td>\n",
       "      <td>Ashmore</td>\n",
       "      <td>QLD</td>\n",
       "      <td>2018-08-01T01:01:15.000+0000</td>\n",
       "      <td>16.25</td>\n",
       "      <td>a623070bfead4541a6b0fff8a09e706c</td>\n",
       "      <td>Australia</td>\n",
       "      <td>CUS-2487424745</td>\n",
       "      <td>153.38 -27.99</td>\n",
       "      <td>debit</td>\n",
       "    </tr>\n",
       "    <tr>\n",
       "      <th>1</th>\n",
       "      <td>authorized</td>\n",
       "      <td>0.0</td>\n",
       "      <td>NaN</td>\n",
       "      <td>ACC-1598451071</td>\n",
       "      <td>AUD</td>\n",
       "      <td>153.41 -27.95</td>\n",
       "      <td>SALES-POS</td>\n",
       "      <td>830a451c-316e-4a6a-bf25-e37caedca49e</td>\n",
       "      <td>NaN</td>\n",
       "      <td>Diana</td>\n",
       "      <td>...</td>\n",
       "      <td>26</td>\n",
       "      <td>Sydney</td>\n",
       "      <td>NSW</td>\n",
       "      <td>2018-08-01T01:13:45.000+0000</td>\n",
       "      <td>14.19</td>\n",
       "      <td>13270a2a902145da9db4c951e04b51b9</td>\n",
       "      <td>Australia</td>\n",
       "      <td>CUS-2487424745</td>\n",
       "      <td>151.21 -33.87</td>\n",
       "      <td>debit</td>\n",
       "    </tr>\n",
       "    <tr>\n",
       "      <th>2</th>\n",
       "      <td>authorized</td>\n",
       "      <td>1.0</td>\n",
       "      <td>NaN</td>\n",
       "      <td>ACC-1222300524</td>\n",
       "      <td>AUD</td>\n",
       "      <td>151.23 -33.94</td>\n",
       "      <td>POS</td>\n",
       "      <td>835c231d-8cdf-4e96-859d-e9d571760cf0</td>\n",
       "      <td>NaN</td>\n",
       "      <td>Michael</td>\n",
       "      <td>...</td>\n",
       "      <td>38</td>\n",
       "      <td>Sydney</td>\n",
       "      <td>NSW</td>\n",
       "      <td>2018-08-01T01:26:15.000+0000</td>\n",
       "      <td>6.42</td>\n",
       "      <td>feb79e7ecd7048a5a36ec889d1a94270</td>\n",
       "      <td>Australia</td>\n",
       "      <td>CUS-2142601169</td>\n",
       "      <td>151.21 -33.87</td>\n",
       "      <td>debit</td>\n",
       "    </tr>\n",
       "    <tr>\n",
       "      <th>3</th>\n",
       "      <td>authorized</td>\n",
       "      <td>1.0</td>\n",
       "      <td>NaN</td>\n",
       "      <td>ACC-1037050564</td>\n",
       "      <td>AUD</td>\n",
       "      <td>153.10 -27.66</td>\n",
       "      <td>SALES-POS</td>\n",
       "      <td>48514682-c78a-4a88-b0da-2d6302e64673</td>\n",
       "      <td>NaN</td>\n",
       "      <td>Rhonda</td>\n",
       "      <td>...</td>\n",
       "      <td>40</td>\n",
       "      <td>Buderim</td>\n",
       "      <td>QLD</td>\n",
       "      <td>2018-08-01T01:38:45.000+0000</td>\n",
       "      <td>40.90</td>\n",
       "      <td>2698170da3704fd981b15e64a006079e</td>\n",
       "      <td>Australia</td>\n",
       "      <td>CUS-1614226872</td>\n",
       "      <td>153.05 -26.68</td>\n",
       "      <td>debit</td>\n",
       "    </tr>\n",
       "    <tr>\n",
       "      <th>4</th>\n",
       "      <td>authorized</td>\n",
       "      <td>1.0</td>\n",
       "      <td>NaN</td>\n",
       "      <td>ACC-1598451071</td>\n",
       "      <td>AUD</td>\n",
       "      <td>153.41 -27.95</td>\n",
       "      <td>SALES-POS</td>\n",
       "      <td>b4e02c10-0852-4273-b8fd-7b3395e32eb0</td>\n",
       "      <td>NaN</td>\n",
       "      <td>Diana</td>\n",
       "      <td>...</td>\n",
       "      <td>26</td>\n",
       "      <td>Mermaid Beach</td>\n",
       "      <td>QLD</td>\n",
       "      <td>2018-08-01T01:51:15.000+0000</td>\n",
       "      <td>3.25</td>\n",
       "      <td>329adf79878c4cf0aeb4188b4691c266</td>\n",
       "      <td>Australia</td>\n",
       "      <td>CUS-2487424745</td>\n",
       "      <td>153.44 -28.06</td>\n",
       "      <td>debit</td>\n",
       "    </tr>\n",
       "  </tbody>\n",
       "</table>\n",
       "<p>5 rows × 23 columns</p>\n",
       "</div>"
      ],
      "text/plain": [
       "       status  card_present_flag bpay_biller_code         account currency       long_lat txn_description                           merchant_id  merchant_code first_name  ...  age merchant_suburb merchant_state                    extraction amount                    transaction_id    country     customer_id merchant_long_lat movement\n",
       "0  authorized                1.0              NaN  ACC-1598451071      AUD  153.41 -27.95             POS  81c48296-73be-44a7-befa-d053f48ce7cd            NaN      Diana  ...   26         Ashmore            QLD  2018-08-01T01:01:15.000+0000  16.25  a623070bfead4541a6b0fff8a09e706c  Australia  CUS-2487424745     153.38 -27.99    debit\n",
       "1  authorized                0.0              NaN  ACC-1598451071      AUD  153.41 -27.95       SALES-POS  830a451c-316e-4a6a-bf25-e37caedca49e            NaN      Diana  ...   26          Sydney            NSW  2018-08-01T01:13:45.000+0000  14.19  13270a2a902145da9db4c951e04b51b9  Australia  CUS-2487424745     151.21 -33.87    debit\n",
       "2  authorized                1.0              NaN  ACC-1222300524      AUD  151.23 -33.94             POS  835c231d-8cdf-4e96-859d-e9d571760cf0            NaN    Michael  ...   38          Sydney            NSW  2018-08-01T01:26:15.000+0000   6.42  feb79e7ecd7048a5a36ec889d1a94270  Australia  CUS-2142601169     151.21 -33.87    debit\n",
       "3  authorized                1.0              NaN  ACC-1037050564      AUD  153.10 -27.66       SALES-POS  48514682-c78a-4a88-b0da-2d6302e64673            NaN     Rhonda  ...   40         Buderim            QLD  2018-08-01T01:38:45.000+0000  40.90  2698170da3704fd981b15e64a006079e  Australia  CUS-1614226872     153.05 -26.68    debit\n",
       "4  authorized                1.0              NaN  ACC-1598451071      AUD  153.41 -27.95       SALES-POS  b4e02c10-0852-4273-b8fd-7b3395e32eb0            NaN      Diana  ...   26   Mermaid Beach            QLD  2018-08-01T01:51:15.000+0000   3.25  329adf79878c4cf0aeb4188b4691c266  Australia  CUS-2487424745     153.44 -28.06    debit\n",
       "\n",
       "[5 rows x 23 columns]"
      ]
     },
     "execution_count": 4,
     "metadata": {},
     "output_type": "execute_result"
    }
   ],
   "source": [
    "df.head()"
   ]
  },
  {
   "cell_type": "code",
   "execution_count": 5,
   "metadata": {},
   "outputs": [
    {
     "data": {
      "text/plain": [
       "12043"
      ]
     },
     "execution_count": 5,
     "metadata": {},
     "output_type": "execute_result"
    }
   ],
   "source": [
    "len(df)"
   ]
  },
  {
   "cell_type": "code",
   "execution_count": 6,
   "metadata": {},
   "outputs": [
    {
     "data": {
      "text/plain": [
       "status                       object\n",
       "card_present_flag           float64\n",
       "bpay_biller_code             object\n",
       "account                      object\n",
       "currency                     object\n",
       "long_lat                     object\n",
       "txn_description              object\n",
       "merchant_id                  object\n",
       "merchant_code               float64\n",
       "first_name                   object\n",
       "balance                     float64\n",
       "date                 datetime64[ns]\n",
       "gender                       object\n",
       "age                           int64\n",
       "merchant_suburb              object\n",
       "merchant_state               object\n",
       "extraction                   object\n",
       "amount                      float64\n",
       "transaction_id               object\n",
       "country                      object\n",
       "customer_id                  object\n",
       "merchant_long_lat            object\n",
       "movement                     object\n",
       "dtype: object"
      ]
     },
     "execution_count": 6,
     "metadata": {},
     "output_type": "execute_result"
    }
   ],
   "source": [
    "df.dtypes"
   ]
  },
  {
   "cell_type": "code",
   "execution_count": 7,
   "metadata": {},
   "outputs": [
    {
     "data": {
      "text/plain": [
       "authorized    7717\n",
       "posted        4326\n",
       "Name: status, dtype: int64"
      ]
     },
     "execution_count": 7,
     "metadata": {},
     "output_type": "execute_result"
    }
   ],
   "source": [
    "# There are only 2 statuses of the transactions: authorized and posted. Authorized transactions are more than posted \n",
    "# transactions.\n",
    "df['status'].value_counts(dropna=False)"
   ]
  },
  {
   "cell_type": "code",
   "execution_count": 8,
   "metadata": {},
   "outputs": [
    {
     "data": {
      "text/plain": [
       "1.0    6194\n",
       "NaN    4326\n",
       "0.0    1523\n",
       "Name: card_present_flag, dtype: int64"
      ]
     },
     "execution_count": 8,
     "metadata": {},
     "output_type": "execute_result"
    }
   ],
   "source": [
    "# This field may indicate whether a transaction was made with card or online. Transactions made with card are ~4 times the\n",
    "# number of transactions made online. There are 4326 transactions with this piece of information missing.\n",
    "df['card_present_flag'].value_counts(dropna=False)"
   ]
  },
  {
   "cell_type": "code",
   "execution_count": 9,
   "metadata": {},
   "outputs": [
    {
     "data": {
      "text/plain": [
       "NaN                                      11158\n",
       "0                                          883\n",
       " LAND WATER & PLANNING East Melbourne        1\n",
       " THE DISCOUNT CHEMIST GROUP                  1\n",
       "Name: bpay_biller_code, dtype: int64"
      ]
     },
     "execution_count": 9,
     "metadata": {},
     "output_type": "execute_result"
    }
   ],
   "source": [
    "# This column may contain information about bill payees. But most transactions don't have this information recorded.\n",
    "df['bpay_biller_code'].value_counts(dropna=False)"
   ]
  },
  {
   "cell_type": "code",
   "execution_count": 10,
   "metadata": {},
   "outputs": [
    {
     "name": "stdout",
     "output_type": "stream",
     "text": [
      "100\n",
      "{8, 9, 10}\n"
     ]
    }
   ],
   "source": [
    "# The ANZ website mentions that This task is based on a synthesised transaction dataset containing 3 months’ worth of \n",
    "# transactions for 100 hypothetical customers, agreeing with the number of unique accounts.\n",
    "print(df['account'].nunique())\n",
    "\n",
    "# All the accounts follow the pattern \"ACC-a series of numbers\". The series of numbers can be 8, 9, or 10 numbers long.\n",
    "pattern = re.compile('ACC-(\\d+)')\n",
    "account_number_length = set()\n",
    "for i in range(len(df)):\n",
    "    m = pattern.search(df.loc[i]['account'])\n",
    "    if m is None:\n",
    "        print(i, df.loc[i]['account'])\n",
    "    else:\n",
    "        account_number_length.add(len(m.group(1)))\n",
    "print(account_number_length)"
   ]
  },
  {
   "cell_type": "code",
   "execution_count": 11,
   "metadata": {},
   "outputs": [
    {
     "data": {
      "text/plain": [
       "AUD    12043\n",
       "Name: currency, dtype: int64"
      ]
     },
     "execution_count": 11,
     "metadata": {},
     "output_type": "execute_result"
    }
   ],
   "source": [
    "# All transactions were made in AUD.\n",
    "df['currency'].value_counts()"
   ]
  },
  {
   "cell_type": "code",
   "execution_count": 12,
   "metadata": {},
   "outputs": [
    {
     "data": {
      "text/plain": [
       "0"
      ]
     },
     "execution_count": 12,
     "metadata": {},
     "output_type": "execute_result"
    }
   ],
   "source": [
    "# All transactions have the longitude and latitude information available\n",
    "sum(df['long_lat'].isnull())"
   ]
  },
  {
   "cell_type": "code",
   "execution_count": 46,
   "metadata": {},
   "outputs": [
    {
     "data": {
      "text/plain": [
       "SALES-POS     0.327\n",
       "POS           0.314\n",
       "PAYMENT       0.216\n",
       "PAY/SALARY    0.073\n",
       "INTER BANK    0.062\n",
       "PHONE BANK    0.008\n",
       "Name: txn_description, dtype: float64"
      ]
     },
     "execution_count": 46,
     "metadata": {},
     "output_type": "execute_result"
    }
   ],
   "source": [
    "df['txn_description'].value_counts(dropna=False, normalize=True)"
   ]
  },
  {
   "cell_type": "code",
   "execution_count": 14,
   "metadata": {},
   "outputs": [
    {
     "name": "stdout",
     "output_type": "stream",
     "text": [
      "0\n",
      "count     12043.000\n",
      "mean      14704.196\n",
      "std       31503.723\n",
      "min           0.240\n",
      "25%        3158.585\n",
      "50%        6432.010\n",
      "75%       12465.945\n",
      "max      267128.520\n",
      "Name: balance, dtype: float64\n"
     ]
    }
   ],
   "source": [
    "# All accounts have a valid balance. The minimum value is 0.24, the maximum value is 267128.52, the average value is 14704.20,\n",
    "# the median value is 6432.01.\n",
    "print(sum(df['balance'].isnull()))\n",
    "print(df['balance'].describe())"
   ]
  },
  {
   "cell_type": "code",
   "execution_count": 15,
   "metadata": {},
   "outputs": [
    {
     "name": "stderr",
     "output_type": "stream",
     "text": [
      "D:\\Anaconda3\\lib\\site-packages\\ipykernel_launcher.py:3: FutureWarning: Treating datetime data as categorical rather than numeric in `.describe` is deprecated and will be removed in a future version of pandas. Specify `datetime_is_numeric=True` to silence this warning and adopt the future behavior now.\n",
      "  This is separate from the ipykernel package so we can avoid doing imports until\n"
     ]
    },
    {
     "data": {
      "text/plain": [
       "count                   12043\n",
       "unique                     91\n",
       "top       2018-09-28 00:00:00\n",
       "freq                      174\n",
       "first     2018-08-01 00:00:00\n",
       "last      2018-10-31 00:00:00\n",
       "Name: date, dtype: object"
      ]
     },
     "execution_count": 15,
     "metadata": {},
     "output_type": "execute_result"
    }
   ],
   "source": [
    "# All transactions were distributed over the three-month period 2018-08-01 to 2018-10-31. There are 91 unique date values, \n",
    "# indicating that transactions took place almost every day. 2018-09-28 had the most transactions/day (174 transactions).\n",
    "df['date'].describe()"
   ]
  },
  {
   "cell_type": "code",
   "execution_count": 16,
   "metadata": {},
   "outputs": [
    {
     "data": {
      "text/plain": [
       "M    6285\n",
       "F    5758\n",
       "Name: gender, dtype: int64"
      ]
     },
     "execution_count": 16,
     "metadata": {},
     "output_type": "execute_result"
    }
   ],
   "source": [
    "df['gender'].value_counts(dropna=False)"
   ]
  },
  {
   "cell_type": "code",
   "execution_count": 17,
   "metadata": {},
   "outputs": [
    {
     "data": {
      "text/plain": [
       "count    12043.000\n",
       "mean        30.582\n",
       "std         10.046\n",
       "min         18.000\n",
       "25%         22.000\n",
       "50%         28.000\n",
       "75%         38.000\n",
       "max         78.000\n",
       "Name: age, dtype: float64"
      ]
     },
     "execution_count": 17,
     "metadata": {},
     "output_type": "execute_result"
    }
   ],
   "source": [
    "df['age'].describe()"
   ]
  },
  {
   "cell_type": "code",
   "execution_count": 18,
   "metadata": {},
   "outputs": [
    {
     "data": {
      "text/plain": [
       "merchant_suburb    1609\n",
       "merchant_state        8\n",
       "dtype: int64"
      ]
     },
     "execution_count": 18,
     "metadata": {},
     "output_type": "execute_result"
    }
   ],
   "source": [
    "# The merchants involved in these transactions come from 1609 suburbs and 8 states in Australia\n",
    "df[['merchant_suburb', 'merchant_state']].nunique()"
   ]
  },
  {
   "cell_type": "code",
   "execution_count": 19,
   "metadata": {},
   "outputs": [
    {
     "data": {
      "text/plain": [
       "0    2018-08-01T01:01:15.000+0000\n",
       "1    2018-08-01T01:13:45.000+0000\n",
       "2    2018-08-01T01:26:15.000+0000\n",
       "3    2018-08-01T01:38:45.000+0000\n",
       "4    2018-08-01T01:51:15.000+0000\n",
       "5    2018-08-01T02:00:00.000+0000\n",
       "6    2018-08-01T02:23:04.000+0000\n",
       "7    2018-08-01T04:11:25.000+0000\n",
       "8    2018-08-01T04:40:00.000+0000\n",
       "9    2018-08-01T06:00:00.000+0000\n",
       "Name: extraction, dtype: object"
      ]
     },
     "execution_count": 19,
     "metadata": {},
     "output_type": "execute_result"
    }
   ],
   "source": [
    "# Extractions are the exact time stamp when a transaction is made.\n",
    "df['extraction'].head(10)"
   ]
  },
  {
   "cell_type": "code",
   "execution_count": 20,
   "metadata": {},
   "outputs": [
    {
     "data": {
      "text/plain": [
       "count    12043.000\n",
       "mean       187.934\n",
       "std        592.600\n",
       "min          0.100\n",
       "25%         16.000\n",
       "50%         29.000\n",
       "75%         53.655\n",
       "max       8835.980\n",
       "Name: amount, dtype: float64"
      ]
     },
     "execution_count": 20,
     "metadata": {},
     "output_type": "execute_result"
    }
   ],
   "source": [
    "# The average transaction amount is 187.93 AUD.\n",
    "df['amount'].describe()"
   ]
  },
  {
   "cell_type": "code",
   "execution_count": 21,
   "metadata": {},
   "outputs": [
    {
     "data": {
      "text/plain": [
       "12043"
      ]
     },
     "execution_count": 21,
     "metadata": {},
     "output_type": "execute_result"
    }
   ],
   "source": [
    "df['transaction_id'].nunique()"
   ]
  },
  {
   "cell_type": "code",
   "execution_count": 22,
   "metadata": {},
   "outputs": [
    {
     "data": {
      "text/plain": [
       "Australia    12043\n",
       "Name: country, dtype: int64"
      ]
     },
     "execution_count": 22,
     "metadata": {},
     "output_type": "execute_result"
    }
   ],
   "source": [
    "df['country'].value_counts(dropna=False)"
   ]
  },
  {
   "cell_type": "code",
   "execution_count": 23,
   "metadata": {},
   "outputs": [
    {
     "name": "stdout",
     "output_type": "stream",
     "text": [
      "          account  ti_count\n",
      "0  ACC-1037050564       259\n",
      "1  ACC-1056639002        86\n",
      "2  ACC-1199531521        77\n",
      "3  ACC-1217063613        25\n",
      "4  ACC-1222300524       303\n",
      "120.43\n"
     ]
    }
   ],
   "source": [
    "# The average number of transactions per account is 120.43.\n",
    "account_gb = df.groupby('account', as_index=False)\n",
    "account_gb_ti = account_gb['transaction_id'].count().rename(columns={'transaction_id':'ti_count'})\n",
    "print(account_gb_ti.head())\n",
    "print(account_gb_ti['ti_count'].mean())"
   ]
  },
  {
   "cell_type": "code",
   "execution_count": 24,
   "metadata": {},
   "outputs": [
    {
     "data": {
      "text/plain": [
       "debit     11160\n",
       "credit      883\n",
       "Name: movement, dtype: int64"
      ]
     },
     "execution_count": 24,
     "metadata": {},
     "output_type": "execute_result"
    }
   ],
   "source": [
    "df['movement'].value_counts(dropna=False)"
   ]
  },
  {
   "cell_type": "code",
   "execution_count": 25,
   "metadata": {},
   "outputs": [
    {
     "name": "stdout",
     "output_type": "stream",
     "text": [
      "   month  ti_count\n",
      "0      8      3943\n",
      "1      9      4013\n",
      "2     10      4087\n",
      "4014.3333333333335\n"
     ]
    }
   ],
   "source": [
    "# The average number of transactions per month is 4014.33\n",
    "df['month'] = pd.DatetimeIndex(df['date']).month\n",
    "month_gb = df.groupby('month', as_index=False)\n",
    "month_gb_ti = month_gb['transaction_id'].count().rename(columns={'transaction_id':'ti_count'})\n",
    "print(month_gb_ti.head())\n",
    "print(month_gb_ti['ti_count'].mean())"
   ]
  },
  {
   "cell_type": "code",
   "execution_count": 52,
   "metadata": {},
   "outputs": [
    {
     "data": {
      "image/png": "[encoded data removed]",
      "text/plain": [
       "<Figure size 432x288 with 1 Axes>"
      ]
     },
     "metadata": {
      "needs_background": "light"
     },
     "output_type": "display_data"
    }
   ],
   "source": [
    "month_state_gb = df.groupby(['month', 'merchant_state'], as_index=False)\n",
    "month_state_gb_ti = month_state_gb['transaction_id'].count().rename(columns={'transaction_id':'ti_count'})\n",
    "\n",
    "g = sns.barplot(x='merchant_state', y= 'ti_count', data=month_state_gb_ti, hue='month')\n",
    "plt.ylabel('number of transactions')\n",
    "plt.xlabel('state')\n",
    "plt.title('Number of transactions in 8 states over 3 months')\n",
    "plt.savefig('transaction_count_by_state_month')\n",
    "plt.show()"
   ]
  },
  {
   "cell_type": "code",
   "execution_count": 27,
   "metadata": {},
   "outputs": [
    {
     "name": "stdout",
     "output_type": "stream",
     "text": [
      "Fri    2073\n",
      "Wed    2063\n",
      "Thu    1801\n",
      "Sat    1709\n",
      "Sun    1550\n",
      "Tue    1487\n",
      "Mon    1360\n",
      "Name: weekday, dtype: int64\n",
      "[ 1  2  4  6  7  8  9 10 11 12 13 14 15 16 17 18 19 20 21 22 23  0  3  5]\n"
     ]
    }
   ],
   "source": [
    "df['weekday'] = df['date'].dt.dayofweek\n",
    "weekday_map = {0:'Mon', 1:'Tue', 2:'Wed', 3:'Thu', 4:'Fri', 5:'Sat', 6:'Sun'}\n",
    "df['weekday'] = df['weekday'].map(weekday_map)\n",
    "print(df['weekday'].value_counts())\n",
    "df['hour'] = df['extraction'].str.slice(start=11, stop=13).astype(int)\n",
    "print(df['hour'].unique())"
   ]
  },
  {
   "cell_type": "code",
   "execution_count": 48,
   "metadata": {},
   "outputs": [
    {
     "name": "stdout",
     "output_type": "stream",
     "text": [
      "  weekday  ti_count  avg_ti_count\n",
      "0     Fri      2073       159.462\n",
      "1     Mon      1360       104.615\n",
      "2     Sat      1709       131.462\n",
      "3     Sun      1550       119.231\n",
      "4     Thu      1801       138.538\n",
      "5     Tue      1487       114.385\n",
      "6     Wed      2063       147.357\n"
     ]
    },
    {
     "data": {
      "image/png": "[encoded data removed]",
      "text/plain": [
       "<Figure size 432x288 with 1 Axes>"
      ]
     },
     "metadata": {
      "needs_background": "light"
     },
     "output_type": "display_data"
    }
   ],
   "source": [
    "weekday_gb = df.groupby('weekday', as_index=False)\n",
    "weekday_gb_ti = weekday_gb['transaction_id'].count().rename(columns={'transaction_id':'ti_count'})\n",
    "# There were 14 Wednesdays, 13 other weekdays from 2018-08-01 to 2018-10-31\n",
    "weekday_gb_ti['avg_ti_count'] = weekday_gb_ti['ti_count']/pd.Series([13,13,13,13,13,13,14])\n",
    "print(weekday_gb_ti)\n",
    "sns.barplot(x='weekday', y='avg_ti_count', data=weekday_gb_ti, order=['Mon','Tue','Wed','Thu','Fri','Sat','Sun'])\n",
    "plt.ylabel('average number of transactions per week')\n",
    "plt.xlabel('days of week')\n",
    "plt.title('Average number of transactions over 7 weekdays')\n",
    "plt.savefig('average_transaction_count_by_weekday')\n",
    "plt.show()"
   ]
  },
  {
   "cell_type": "code",
   "execution_count": 49,
   "metadata": {},
   "outputs": [
    {
     "data": {
      "image/png": "[encoded data removed]",
      "text/plain": [
       "<Figure size 432x288 with 1 Axes>"
      ]
     },
     "metadata": {
      "needs_background": "light"
     },
     "output_type": "display_data"
    }
   ],
   "source": [
    "hour_gb = df.groupby('hour', as_index=False)\n",
    "hour_gb_ti = hour_gb['transaction_id'].count().rename(columns={'transaction_id':'ti_count'})\n",
    "hour_gb_ti['avg_ti_count'] = hour_gb_ti['ti_count'] / 91\n",
    "plt.plot(hour_gb_ti['hour'], hour_gb_ti['avg_ti_count'], marker='o')\n",
    "#sns.lineplot(x='hour', y='avg_ti_count', data=hour_gb_ti, style='avg_ti_count', markers=True)\n",
    "plt.xticks(range(24))\n",
    "plt.ylabel('average number of transactions per day')\n",
    "plt.xlabel('hours of day')\n",
    "plt.title('Average number of transactions over 24 hours in a day')\n",
    "plt.savefig('average_transaction_count_by_hour')\n",
    "plt.show()"
   ]
  },
  {
   "cell_type": "code",
   "execution_count": 30,
   "metadata": {},
   "outputs": [
    {
     "name": "stdout",
     "output_type": "stream",
     "text": [
      "255.0 114.62 -12.37 -573.0\n"
     ]
    }
   ],
   "source": [
    "# Geospatial information about the accounts\n",
    "account_long_lat = df['long_lat'].str.split(' ', n=1, expand=True)\n",
    "df['account_long'] = account_long_lat[0].astype(float)\n",
    "df['account_lat'] = account_long_lat[1].astype(float)\n",
    "print(df['account_long'].max(), df['account_long'].min(), df['account_lat'].max(), df['account_lat'].min())"
   ]
  },
  {
   "cell_type": "code",
   "execution_count": 31,
   "metadata": {},
   "outputs": [
    {
     "data": {
      "text/html": [
       "<div>\n",
       "<style scoped>\n",
       "    .dataframe tbody tr th:only-of-type {\n",
       "        vertical-align: middle;\n",
       "    }\n",
       "\n",
       "    .dataframe tbody tr th {\n",
       "        vertical-align: top;\n",
       "    }\n",
       "\n",
       "    .dataframe thead th {\n",
       "        text-align: right;\n",
       "    }\n",
       "</style>\n",
       "<table border=\"1\" class=\"dataframe\">\n",
       "  <thead>\n",
       "    <tr style=\"text-align: right;\">\n",
       "      <th></th>\n",
       "      <th>status</th>\n",
       "      <th>card_present_flag</th>\n",
       "      <th>bpay_biller_code</th>\n",
       "      <th>account</th>\n",
       "      <th>currency</th>\n",
       "      <th>long_lat</th>\n",
       "      <th>txn_description</th>\n",
       "      <th>merchant_id</th>\n",
       "      <th>merchant_code</th>\n",
       "      <th>first_name</th>\n",
       "      <th>...</th>\n",
       "      <th>transaction_id</th>\n",
       "      <th>country</th>\n",
       "      <th>customer_id</th>\n",
       "      <th>merchant_long_lat</th>\n",
       "      <th>movement</th>\n",
       "      <th>month</th>\n",
       "      <th>weekday</th>\n",
       "      <th>hour</th>\n",
       "      <th>account_long</th>\n",
       "      <th>account_lat</th>\n",
       "    </tr>\n",
       "  </thead>\n",
       "  <tbody>\n",
       "    <tr>\n",
       "      <th>47</th>\n",
       "      <td>authorized</td>\n",
       "      <td>0.0</td>\n",
       "      <td>NaN</td>\n",
       "      <td>ACC-2901672282</td>\n",
       "      <td>AUD</td>\n",
       "      <td>255.00 -573.00</td>\n",
       "      <td>SALES-POS</td>\n",
       "      <td>7ce5471b-363c-46ab-b398-ca517347829a</td>\n",
       "      <td>NaN</td>\n",
       "      <td>Daniel</td>\n",
       "      <td>...</td>\n",
       "      <td>826f09d26daf4b7282f597cabfecaf81</td>\n",
       "      <td>Australia</td>\n",
       "      <td>CUS-1617121891</td>\n",
       "      <td>151.21 -33.87</td>\n",
       "      <td>debit</td>\n",
       "      <td>8</td>\n",
       "      <td>Wed</td>\n",
       "      <td>10</td>\n",
       "      <td>255.0</td>\n",
       "      <td>-573.0</td>\n",
       "    </tr>\n",
       "    <tr>\n",
       "      <th>51</th>\n",
       "      <td>posted</td>\n",
       "      <td>NaN</td>\n",
       "      <td>NaN</td>\n",
       "      <td>ACC-2901672282</td>\n",
       "      <td>AUD</td>\n",
       "      <td>255.00 -573.00</td>\n",
       "      <td>PAYMENT</td>\n",
       "      <td>NaN</td>\n",
       "      <td>NaN</td>\n",
       "      <td>Daniel</td>\n",
       "      <td>...</td>\n",
       "      <td>62e49c215d7e45609556936fd7e860ce</td>\n",
       "      <td>Australia</td>\n",
       "      <td>CUS-1617121891</td>\n",
       "      <td>NaN</td>\n",
       "      <td>debit</td>\n",
       "      <td>8</td>\n",
       "      <td>Wed</td>\n",
       "      <td>11</td>\n",
       "      <td>255.0</td>\n",
       "      <td>-573.0</td>\n",
       "    </tr>\n",
       "    <tr>\n",
       "      <th>99</th>\n",
       "      <td>posted</td>\n",
       "      <td>NaN</td>\n",
       "      <td>NaN</td>\n",
       "      <td>ACC-2901672282</td>\n",
       "      <td>AUD</td>\n",
       "      <td>255.00 -573.00</td>\n",
       "      <td>PAYMENT</td>\n",
       "      <td>NaN</td>\n",
       "      <td>NaN</td>\n",
       "      <td>Daniel</td>\n",
       "      <td>...</td>\n",
       "      <td>c539e04478c94bb2b48af6e0069a011b</td>\n",
       "      <td>Australia</td>\n",
       "      <td>CUS-1617121891</td>\n",
       "      <td>NaN</td>\n",
       "      <td>debit</td>\n",
       "      <td>8</td>\n",
       "      <td>Wed</td>\n",
       "      <td>17</td>\n",
       "      <td>255.0</td>\n",
       "      <td>-573.0</td>\n",
       "    </tr>\n",
       "    <tr>\n",
       "      <th>392</th>\n",
       "      <td>posted</td>\n",
       "      <td>NaN</td>\n",
       "      <td>0</td>\n",
       "      <td>ACC-2901672282</td>\n",
       "      <td>AUD</td>\n",
       "      <td>255.00 -573.00</td>\n",
       "      <td>PAY/SALARY</td>\n",
       "      <td>NaN</td>\n",
       "      <td>0.0</td>\n",
       "      <td>Daniel</td>\n",
       "      <td>...</td>\n",
       "      <td>035f7e013df6486f80e2245bea04a28f</td>\n",
       "      <td>Australia</td>\n",
       "      <td>CUS-1617121891</td>\n",
       "      <td>NaN</td>\n",
       "      <td>credit</td>\n",
       "      <td>8</td>\n",
       "      <td>Fri</td>\n",
       "      <td>17</td>\n",
       "      <td>255.0</td>\n",
       "      <td>-573.0</td>\n",
       "    </tr>\n",
       "    <tr>\n",
       "      <th>473</th>\n",
       "      <td>authorized</td>\n",
       "      <td>1.0</td>\n",
       "      <td>NaN</td>\n",
       "      <td>ACC-2901672282</td>\n",
       "      <td>AUD</td>\n",
       "      <td>255.00 -573.00</td>\n",
       "      <td>POS</td>\n",
       "      <td>ac9555e4-9c7c-486b-9e65-07e2e918dd0b</td>\n",
       "      <td>NaN</td>\n",
       "      <td>Daniel</td>\n",
       "      <td>...</td>\n",
       "      <td>9467d030d2b84b4dbc419e8230fd9361</td>\n",
       "      <td>Australia</td>\n",
       "      <td>CUS-1617121891</td>\n",
       "      <td>145.09 -37.9</td>\n",
       "      <td>debit</td>\n",
       "      <td>8</td>\n",
       "      <td>Sat</td>\n",
       "      <td>9</td>\n",
       "      <td>255.0</td>\n",
       "      <td>-573.0</td>\n",
       "    </tr>\n",
       "  </tbody>\n",
       "</table>\n",
       "<p>5 rows × 28 columns</p>\n",
       "</div>"
      ],
      "text/plain": [
       "         status  card_present_flag bpay_biller_code         account currency        long_lat txn_description                           merchant_id  merchant_code first_name  ...                    transaction_id    country     customer_id  merchant_long_lat movement month weekday  hour account_long account_lat\n",
       "47   authorized                0.0              NaN  ACC-2901672282      AUD  255.00 -573.00       SALES-POS  7ce5471b-363c-46ab-b398-ca517347829a            NaN     Daniel  ...  826f09d26daf4b7282f597cabfecaf81  Australia  CUS-1617121891      151.21 -33.87    debit     8     Wed    10        255.0      -573.0\n",
       "51       posted                NaN              NaN  ACC-2901672282      AUD  255.00 -573.00         PAYMENT                                   NaN            NaN     Daniel  ...  62e49c215d7e45609556936fd7e860ce  Australia  CUS-1617121891                NaN    debit     8     Wed    11        255.0      -573.0\n",
       "99       posted                NaN              NaN  ACC-2901672282      AUD  255.00 -573.00         PAYMENT                                   NaN            NaN     Daniel  ...  c539e04478c94bb2b48af6e0069a011b  Australia  CUS-1617121891                NaN    debit     8     Wed    17        255.0      -573.0\n",
       "392      posted                NaN                0  ACC-2901672282      AUD  255.00 -573.00      PAY/SALARY                                   NaN            0.0     Daniel  ...  035f7e013df6486f80e2245bea04a28f  Australia  CUS-1617121891                NaN   credit     8     Fri    17        255.0      -573.0\n",
       "473  authorized                1.0              NaN  ACC-2901672282      AUD  255.00 -573.00             POS  ac9555e4-9c7c-486b-9e65-07e2e918dd0b            NaN     Daniel  ...  9467d030d2b84b4dbc419e8230fd9361  Australia  CUS-1617121891       145.09 -37.9    debit     8     Sat     9        255.0      -573.0\n",
       "\n",
       "[5 rows x 28 columns]"
      ]
     },
     "metadata": {},
     "output_type": "display_data"
    },
    {
     "name": "stdout",
     "output_type": "stream",
     "text": [
      "ACC-2901672282    123\n",
      "Name: account, dtype: int64\n",
      "-573.0    123\n",
      "Name: account_lat, dtype: int64\n",
      "33.00      14\n",
      "40.00      13\n",
      "3328.77     7\n",
      "95.00       3\n",
      "106.00      3\n",
      "           ..\n",
      "23.09       1\n",
      "47.82       1\n",
      "60.39       1\n",
      "51.80       1\n",
      "41.10       1\n",
      "Name: amount, Length: 86, dtype: int64\n"
     ]
    }
   ],
   "source": [
    "# The value range of account longitudes and latitudes are not correct. Outliers need to be identified.\n",
    "# Looks like these faulty values all come from one account. It could be error inputing this piece of info for this account\n",
    "account_long_outliers = df[df['account_long'] > 180]\n",
    "display(account_long_outliers.head())\n",
    "print(account_long_outliers['account'].value_counts(dropna=False))\n",
    "print(account_long_outliers['account_lat'].value_counts())\n",
    "print(account_long_outliers['amount'].value_counts())"
   ]
  },
  {
   "cell_type": "code",
   "execution_count": 32,
   "metadata": {},
   "outputs": [
    {
     "name": "stdout",
     "output_type": "stream",
     "text": [
      "11920\n",
      "153.41 114.62 -12.37 -42.88\n"
     ]
    }
   ],
   "source": [
    "account_right_long_lat = df[(df['account_long'] < 180) & (df['account_lat'] > -90)]\n",
    "print(len(account_right_long_lat))\n",
    "print(account_right_long_lat['account_long'].max(), account_right_long_lat['account_long'].min(), \n",
    "      account_right_long_lat['account_lat'].max(), account_right_long_lat['account_lat'].min())"
   ]
  },
  {
   "cell_type": "code",
   "execution_count": 40,
   "metadata": {},
   "outputs": [
    {
     "name": "stdout",
     "output_type": "stream",
     "text": [
      "153.61 113.83 -12.33 -43.31\n"
     ]
    }
   ],
   "source": [
    "# Geospatial information about the merchants\n",
    "merchant_long_lat = df['merchant_long_lat'].str.split(' ', n=1, expand=True)\n",
    "df['merchant_long'] = merchant_long_lat[0].astype(float)\n",
    "df['merchant_lat'] = merchant_long_lat[1].astype(float)\n",
    "print(df['merchant_long'].max(), df['merchant_long'].min(), df['merchant_lat'].max(), df['merchant_lat'].min())"
   ]
  },
  {
   "cell_type": "code",
   "execution_count": 50,
   "metadata": {},
   "outputs": [
    {
     "data": {
      "image/png": "[encoded data removed]",
      "text/plain": [
       "<Figure size 576x432 with 1 Axes>"
      ]
     },
     "metadata": {
      "needs_background": "light"
     },
     "output_type": "display_data"
    }
   ],
   "source": [
    "figure = plt.figure(figsize=(8,6))\n",
    "ax = figure.add_subplot(1,1,1, projection=crs.Mercator())\n",
    "# adds a stock image as a background\n",
    "ax.stock_img()\n",
    "# adds national borders\n",
    "ax.add_feature(cfeature.BORDERS)\n",
    "# add coastlines\n",
    "ax.add_feature(cfeature.COASTLINE)\n",
    "# add state boundaries\n",
    "ax.add_feature(cfeature.STATES)\n",
    "# Zoom in on Australia by setting longitude/latitude parameters\n",
    "ax.set_extent(\n",
    "    [\n",
    "        112, # min longitude\n",
    "        155, # max longitude\n",
    "        -45, # min latitude\n",
    "        -9 # max latitude\n",
    "    ],\n",
    "    crs=crs.PlateCarree()\n",
    ")\n",
    "sc1 = plt.scatter(\n",
    "    x=df['merchant_long'],\n",
    "    y=df['merchant_lat'],\n",
    "    color=\"blue\",\n",
    "    s=4,\n",
    "    alpha=0.5,\n",
    "    transform=crs.PlateCarree()\n",
    ")\n",
    "sc2 = plt.scatter(\n",
    "    x=account_right_long_lat['account_long'],\n",
    "    y=account_right_long_lat['account_lat'],\n",
    "    color=\"red\",\n",
    "    s=6,\n",
    "    alpha=1,\n",
    "    transform=crs.PlateCarree()\n",
    ")\n",
    "sc3 = plt.scatter(\n",
    "    x=)\n",
    "ax.legend((sc1, sc2),\n",
    "         ('Merchant', 'Customer'),\n",
    "          loc='lower left',\n",
    "          fontsize=8)\n",
    "plt.title('Geospatial distribution of customers and merchants')\n",
    "plt.savefig('accounts_and_merchants_geoinfo.png')\n",
    "plt.show()"
   ]
  },
  {
   "cell_type": "code",
   "execution_count": null,
   "metadata": {},
   "outputs": [],
   "source": []
  }
 ],
 "metadata": {
  "kernelspec": {
   "display_name": "Python 3",
   "language": "python",
   "name": "python3"
  },
  "language_info": {
   "codemirror_mode": {
    "name": "ipython",
    "version": 3
   },
   "file_extension": ".py",
   "mimetype": "text/x-python",
   "name": "python",
   "nbconvert_exporter": "python",
   "pygments_lexer": "ipython3",
   "version": "3.7.6"
  }
 },
 "nbformat": 4,
 "nbformat_minor": 4
}
